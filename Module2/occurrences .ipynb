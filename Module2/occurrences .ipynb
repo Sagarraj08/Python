{
 "cells": [
  {
   "cell_type": "markdown",
   "id": "9a5a209d",
   "metadata": {},
   "source": [
    "# Python program to count occurrences of a substring in a string."
   ]
  },
  {
   "cell_type": "code",
   "execution_count": 11,
   "id": "2c29f262",
   "metadata": {},
   "outputs": [
    {
     "name": "stdout",
     "output_type": "stream",
     "text": [
      "6\n"
     ]
    }
   ],
   "source": [
    "x=\"Can you can a can as a canner can can a can?\"\n",
    "print(x.count(\"can\"))"
   ]
  }
 ],
 "metadata": {
  "kernelspec": {
   "display_name": "Python 3 (ipykernel)",
   "language": "python",
   "name": "python3"
  },
  "language_info": {
   "codemirror_mode": {
    "name": "ipython",
    "version": 3
   },
   "file_extension": ".py",
   "mimetype": "text/x-python",
   "name": "python",
   "nbconvert_exporter": "python",
   "pygments_lexer": "ipython3",
   "version": "3.9.13"
  }
 },
 "nbformat": 4,
 "nbformat_minor": 5
}
