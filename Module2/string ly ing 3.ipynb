{
 "cells": [
  {
   "cell_type": "markdown",
   "id": "4ceadd68",
   "metadata": {},
   "source": [
    "# Python program to add 'ing' at the end of a given string (length should be at least 3). If the given string already ends with 'ing' then add 'ly' instead if the string length of the given string is less than 3, leave it unchanged.\n"
   ]
  },
  {
   "cell_type": "code",
   "execution_count": 45,
   "id": "5f6f6926",
   "metadata": {},
   "outputs": [
    {
     "name": "stdout",
     "output_type": "stream",
     "text": [
      "abing\n",
      "abc\n",
      "stringly\n"
     ]
    }
   ],
   "source": [
    "def add_string(str1):\n",
    "    length = len(str1)\n",
    "    if length > 2:\n",
    "        if str1[-3:] == 'ing': str1 += 'ly'  \n",
    "    else:str1 += 'ing'  \n",
    "    return str1  \n",
    "print(add_string('ab'))  \n",
    "print(add_string('abc'))  \n",
    "print(add_string('string'))  "
   ]
  }
 ],
 "metadata": {
  "kernelspec": {
   "display_name": "Python 3 (ipykernel)",
   "language": "python",
   "name": "python3"
  },
  "language_info": {
   "codemirror_mode": {
    "name": "ipython",
    "version": 3
   },
   "file_extension": ".py",
   "mimetype": "text/x-python",
   "name": "python",
   "nbconvert_exporter": "python",
   "pygments_lexer": "ipython3",
   "version": "3.9.13"
  }
 },
 "nbformat": 4,
 "nbformat_minor": 5
}
