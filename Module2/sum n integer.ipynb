{
 "cells": [
  {
   "cell_type": "markdown",
   "id": "47918570",
   "metadata": {},
   "source": [
    "# python program to sum of the first n positive integers\n"
   ]
  },
  {
   "cell_type": "code",
   "execution_count": 22,
   "id": "afc74d19",
   "metadata": {},
   "outputs": [
    {
     "name": "stdout",
     "output_type": "stream",
     "text": [
      "Enter number8\n",
      "36.0\n"
     ]
    }
   ],
   "source": [
    "n=int(input(\"Enter number\"))\n",
    "i=1\n",
    "while i<n:\n",
    "    i=(n*(n+1))/2\n",
    "    print(i)\n",
    "    \n",
    "    "
   ]
  },
  {
   "cell_type": "code",
   "execution_count": null,
   "id": "3ff35739",
   "metadata": {},
   "outputs": [],
   "source": []
  },
  {
   "cell_type": "code",
   "execution_count": null,
   "id": "75db8f7b",
   "metadata": {},
   "outputs": [],
   "source": []
  }
 ],
 "metadata": {
  "kernelspec": {
   "display_name": "Python 3 (ipykernel)",
   "language": "python",
   "name": "python3"
  },
  "language_info": {
   "codemirror_mode": {
    "name": "ipython",
    "version": 3
   },
   "file_extension": ".py",
   "mimetype": "text/x-python",
   "name": "python",
   "nbconvert_exporter": "python",
   "pygments_lexer": "ipython3",
   "version": "3.9.13"
  }
 },
 "nbformat": 4,
 "nbformat_minor": 5
}
