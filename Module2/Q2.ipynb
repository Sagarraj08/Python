{
 "cells": [
  {
   "cell_type": "markdown",
   "id": "ff8b6028",
   "metadata": {},
   "source": [
    "# Python program to get the Factorial number of given number."
   ]
  },
  {
   "cell_type": "code",
   "execution_count": 1,
   "id": "b37f8975",
   "metadata": {},
   "outputs": [
    {
     "name": "stdout",
     "output_type": "stream",
     "text": [
      "Enter a number: 5\n",
      "The factorial of 5 is 120\n"
     ]
    }
   ],
   "source": [
    "x = int(input(\"Enter a number: \"))    \n",
    "fact = 1    \n",
    "if x < 0:    \n",
    "   print(\" Factorial does not exist for negative numbers\")    \n",
    "elif x == 0:    \n",
    "   print(\"The factorial of 0 is 1\")    \n",
    "else:    \n",
    "   for i in range(1,x + 1):    \n",
    "       fact = fact*i    \n",
    "   print(\"The factorial of\",x,\"is\",fact)   "
   ]
  },
  {
   "cell_type": "code",
   "execution_count": null,
   "id": "b8c5ad54",
   "metadata": {},
   "outputs": [],
   "source": []
  },
  {
   "cell_type": "code",
   "execution_count": null,
   "id": "5ad8540d",
   "metadata": {},
   "outputs": [],
   "source": []
  }
 ],
 "metadata": {
  "kernelspec": {
   "display_name": "Python 3 (ipykernel)",
   "language": "python",
   "name": "python3"
  },
  "language_info": {
   "codemirror_mode": {
    "name": "ipython",
    "version": 3
   },
   "file_extension": ".py",
   "mimetype": "text/x-python",
   "name": "python",
   "nbconvert_exporter": "python",
   "pygments_lexer": "ipython3",
   "version": "3.9.13"
  }
 },
 "nbformat": 4,
 "nbformat_minor": 5
}
