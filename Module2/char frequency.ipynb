{
 "cells": [
  {
   "cell_type": "markdown",
   "id": "f4c2629a",
   "metadata": {},
   "source": [
    "# Python program to count the number of characters (character frequency) in a string"
   ]
  },
  {
   "cell_type": "code",
   "execution_count": 2,
   "id": "d6b61cf9",
   "metadata": {},
   "outputs": [
    {
     "name": "stdout",
     "output_type": "stream",
     "text": [
      "{'S': 1, 'a': 2, 'g': 1, 'r': 1}\n"
     ]
    }
   ],
   "source": [
    "def char_frequency(str1):\n",
    "    dict = {}\n",
    "    for n in str1:\n",
    "        keys = dict.keys()\n",
    "        if n in keys:\n",
    "            dict[n] += 1\n",
    "        else:\n",
    "            dict[n] = 1\n",
    "    return dict\n",
    "print(char_frequency(\"Sagar\"))\n"
   ]
  },
  {
   "cell_type": "code",
   "execution_count": null,
   "id": "7a67f316",
   "metadata": {},
   "outputs": [],
   "source": []
  }
 ],
 "metadata": {
  "kernelspec": {
   "display_name": "Python 3 (ipykernel)",
   "language": "python",
   "name": "python3"
  },
  "language_info": {
   "codemirror_mode": {
    "name": "ipython",
    "version": 3
   },
   "file_extension": ".py",
   "mimetype": "text/x-python",
   "name": "python",
   "nbconvert_exporter": "python",
   "pygments_lexer": "ipython3",
   "version": "3.9.13"
  }
 },
 "nbformat": 4,
 "nbformat_minor": 5
}
