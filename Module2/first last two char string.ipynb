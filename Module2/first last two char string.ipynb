{
 "cells": [
  {
   "cell_type": "markdown",
   "id": "914e45ec",
   "metadata": {},
   "source": [
    "# Python program to get a string made of the first 2 and the last 2 chars from a given a string. If the string length is less than 2, return instead of the empty string"
   ]
  },
  {
   "cell_type": "code",
   "execution_count": 8,
   "id": "3b8ddf67",
   "metadata": {},
   "outputs": [
    {
     "name": "stdout",
     "output_type": "stream",
     "text": [
      "Enter stringa\n",
      "Enter string1\n",
      "string made of the first 2 and the last 2 chars from a given a string is :  a1\n"
     ]
    }
   ],
   "source": [
    "x=input(\"Enter string\")\n",
    "y=input(\"Enter string\")\n",
    "z=x[:2]+y[-2:]\n",
    "if len(z)<2:print(\"Empty string\")\n",
    "else:print(\"string made of the first 2 and the last 2 chars from a given a string is : \",z)\n"
   ]
  }
 ],
 "metadata": {
  "kernelspec": {
   "display_name": "Python 3 (ipykernel)",
   "language": "python",
   "name": "python3"
  },
  "language_info": {
   "codemirror_mode": {
    "name": "ipython",
    "version": 3
   },
   "file_extension": ".py",
   "mimetype": "text/x-python",
   "name": "python",
   "nbconvert_exporter": "python",
   "pygments_lexer": "ipython3",
   "version": "3.9.13"
  }
 },
 "nbformat": 4,
 "nbformat_minor": 5
}
