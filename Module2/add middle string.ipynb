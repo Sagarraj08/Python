{
 "cells": [
  {
   "cell_type": "markdown",
   "id": "4f9ec2e6",
   "metadata": {},
   "source": [
    "# Python function to insert a string in the middle of a string"
   ]
  },
  {
   "cell_type": "code",
   "execution_count": 2,
   "id": "b3c8946b",
   "metadata": {},
   "outputs": [
    {
     "name": "stdout",
     "output_type": "stream",
     "text": [
      "[[Python]]\n",
      "{{PHP}}\n",
      "<<HTML>>\n"
     ]
    }
   ],
   "source": [
    "def insert_sting_middle(str, word):\n",
    "\treturn str[:2] + word + str[2:]\n",
    "\n",
    "print(insert_sting_middle('[[]]', 'Python'))\n",
    "print(insert_sting_middle('{{}}', 'PHP'))\n",
    "print(insert_sting_middle('<<>>', 'HTML'))\n"
   ]
  },
  {
   "cell_type": "code",
   "execution_count": 3,
   "id": "bd79720f",
   "metadata": {},
   "outputs": [
    {
     "name": "stdout",
     "output_type": "stream",
     "text": [
      "The original string is : geekforgeeks is for geeks\n",
      "Formulated String : geekforgeeks is best for geeks\n"
     ]
    }
   ],
   "source": [
    "# Python3 code to demonstrate working of\n",
    "# Add Phrase in middle of String\n",
    "# Using split() + slicing + join()\n",
    "\n",
    "# initializing string\n",
    "test_str = 'geekforgeeks is for geeks'\n",
    "\n",
    "# printing original string\n",
    "print(\"The original string is : \" + str(test_str))\n",
    "\n",
    "# initializing mid string\n",
    "mid_str = \"best\"\n",
    "\n",
    "# splitting string to list\n",
    "temp = test_str.split()\n",
    "mid_pos = len(temp) // 2\n",
    "\n",
    "# appending in mid\n",
    "res = temp[:mid_pos] + [mid_str] + temp[mid_pos:]\n",
    "\n",
    "# conversion back\n",
    "res = ' '.join(res)\n",
    "\n",
    "# printing result\n",
    "print(\"Formulated String : \" + str(res))\n"
   ]
  }
 ],
 "metadata": {
  "kernelspec": {
   "display_name": "Python 3 (ipykernel)",
   "language": "python",
   "name": "python3"
  },
  "language_info": {
   "codemirror_mode": {
    "name": "ipython",
    "version": 3
   },
   "file_extension": ".py",
   "mimetype": "text/x-python",
   "name": "python",
   "nbconvert_exporter": "python",
   "pygments_lexer": "ipython3",
   "version": "3.9.13"
  }
 },
 "nbformat": 4,
 "nbformat_minor": 5
}
