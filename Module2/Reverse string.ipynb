{
 "cells": [
  {
   "cell_type": "markdown",
   "id": "da621008",
   "metadata": {},
   "source": [
    "# Python function to reverses a string if its length is a multiple of 4"
   ]
  },
  {
   "cell_type": "code",
   "execution_count": 11,
   "id": "b00e6382",
   "metadata": {},
   "outputs": [
    {
     "name": "stdout",
     "output_type": "stream",
     "text": [
      "Enter string\n",
      "asdfghjk\n",
      "string length is a multiple of 4 so it is reversed :  kjhgfdsa\n"
     ]
    }
   ],
   "source": [
    "x=input(\"Enter string\\n\")\n",
    "y=len(x)\n",
    "z=x[::-1]\n",
    "if y%4==0:\n",
    "    print(\"string length is a multiple of 4 so it is reversed : \",z)\n",
    "else:print(\"String length is not multiple of 4\")\n"
   ]
  }
 ],
 "metadata": {
  "kernelspec": {
   "display_name": "Python 3 (ipykernel)",
   "language": "python",
   "name": "python3"
  },
  "language_info": {
   "codemirror_mode": {
    "name": "ipython",
    "version": 3
   },
   "file_extension": ".py",
   "mimetype": "text/x-python",
   "name": "python",
   "nbconvert_exporter": "python",
   "pygments_lexer": "ipython3",
   "version": "3.9.13"
  }
 },
 "nbformat": 4,
 "nbformat_minor": 5
}
