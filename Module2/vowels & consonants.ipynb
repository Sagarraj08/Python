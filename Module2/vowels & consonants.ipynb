{
 "cells": [
  {
   "cell_type": "markdown",
   "id": "b1416008",
   "metadata": {},
   "source": [
    "# Python program to test whether a passed letter is a vowel or not"
   ]
  },
  {
   "cell_type": "code",
   "execution_count": 11,
   "id": "2bab71ae",
   "metadata": {},
   "outputs": [
    {
     "name": "stdout",
     "output_type": "stream",
     "text": [
      "Enter only one Alphabet : x\n",
      "x is Consonant\n"
     ]
    }
   ],
   "source": [
    "x=input(\"Enter only one Alphabet : \")\n",
    "if x==\"a\":print(x,\"is vowel\")\n",
    "elif x==\"A\":print(x,\"is vowel\")\n",
    "elif x==\"I\":print(x,\"is vowel\")\n",
    "elif x==\"i\":print(x,\"is vowel\")\n",
    "elif x==\"O\":print(x,\"is vowel\")\n",
    "elif x==\"o\":print(x,\"is vowel\")\n",
    "elif x==\"U\":print(x,\"is vowel\")\n",
    "elif x==\"u\":print(x,\"is vowel\")\n",
    "elif x==\"E\":print(x,\"is vowel\")\n",
    "elif x==\"e\":print(x,\"is vowel\")\n",
    "else:print(x,\"is Consonant\")"
   ]
  },
  {
   "cell_type": "code",
   "execution_count": null,
   "id": "e3debdba",
   "metadata": {},
   "outputs": [],
   "source": []
  },
  {
   "cell_type": "code",
   "execution_count": null,
   "id": "1bc3b033",
   "metadata": {},
   "outputs": [],
   "source": []
  }
 ],
 "metadata": {
  "kernelspec": {
   "display_name": "Python 3 (ipykernel)",
   "language": "python",
   "name": "python3"
  },
  "language_info": {
   "codemirror_mode": {
    "name": "ipython",
    "version": 3
   },
   "file_extension": ".py",
   "mimetype": "text/x-python",
   "name": "python",
   "nbconvert_exporter": "python",
   "pygments_lexer": "ipython3",
   "version": "3.9.13"
  }
 },
 "nbformat": 4,
 "nbformat_minor": 5
}
