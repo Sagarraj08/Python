{
 "cells": [
  {
   "cell_type": "markdown",
   "id": "09c36217",
   "metadata": {},
   "source": [
    "# Python program to convert a tuple to a string"
   ]
  },
  {
   "cell_type": "code",
   "execution_count": 2,
   "id": "5bd419e7",
   "metadata": {},
   "outputs": [
    {
     "name": "stdout",
     "output_type": "stream",
     "text": [
      "sagar\n"
     ]
    }
   ],
   "source": [
    "def convertTuple(tup):\n",
    "\tstr = ''.join(tup)\n",
    "\treturn str\n",
    "\n",
    "\n",
    "# Driver code\n",
    "tuple = ('s', 'a', 'g', 'a', 'r')\n",
    "str = convertTuple(tuple)\n",
    "print(str)\n"
   ]
  },
  {
   "cell_type": "code",
   "execution_count": null,
   "id": "b73041ff",
   "metadata": {},
   "outputs": [],
   "source": []
  }
 ],
 "metadata": {
  "kernelspec": {
   "display_name": "Python 3 (ipykernel)",
   "language": "python",
   "name": "python3"
  },
  "language_info": {
   "codemirror_mode": {
    "name": "ipython",
    "version": 3
   },
   "file_extension": ".py",
   "mimetype": "text/x-python",
   "name": "python",
   "nbconvert_exporter": "python",
   "pygments_lexer": "ipython3",
   "version": "3.9.13"
  }
 },
 "nbformat": 4,
 "nbformat_minor": 5
}
