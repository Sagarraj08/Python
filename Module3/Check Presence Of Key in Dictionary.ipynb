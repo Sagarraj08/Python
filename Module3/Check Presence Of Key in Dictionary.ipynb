{
 "cells": [
  {
   "cell_type": "markdown",
   "id": "834756e8",
   "metadata": {},
   "source": [
    "# How Do You Check The Presence Of A Key In A Dictionary?"
   ]
  },
  {
   "cell_type": "code",
   "execution_count": 5,
   "id": "18bd75ff",
   "metadata": {},
   "outputs": [
    {
     "name": "stdout",
     "output_type": "stream",
     "text": [
      "Present,  value = 200\n",
      "Not present\n"
     ]
    }
   ],
   "source": [
    "def checkKey(dic, key):\n",
    "    if key in dic.keys():\n",
    "        print(\"Present, \", end =\" \")\n",
    "        print(\"value =\", dic[key])\n",
    "    else:\n",
    "        print(\"Not present\")\n",
    "\n",
    "dic = {'a': 100, 'b':200, 'c':300}\n",
    "key = 'b'\n",
    "\n",
    "checkKey(dic, key)\n",
    "\n",
    "key = 'w'\n",
    "checkKey(dic, key)\n"
   ]
  },
  {
   "cell_type": "code",
   "execution_count": null,
   "id": "2d60af45",
   "metadata": {},
   "outputs": [],
   "source": []
  }
 ],
 "metadata": {
  "kernelspec": {
   "display_name": "Python 3 (ipykernel)",
   "language": "python",
   "name": "python3"
  },
  "language_info": {
   "codemirror_mode": {
    "name": "ipython",
    "version": 3
   },
   "file_extension": ".py",
   "mimetype": "text/x-python",
   "name": "python",
   "nbconvert_exporter": "python",
   "pygments_lexer": "ipython3",
   "version": "3.9.13"
  }
 },
 "nbformat": 4,
 "nbformat_minor": 5
}
