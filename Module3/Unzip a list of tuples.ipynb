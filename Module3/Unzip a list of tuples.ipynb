{
 "cells": [
  {
   "cell_type": "markdown",
   "id": "1495d9c2",
   "metadata": {},
   "source": [
    "# Python program to unzip a list of tuples into individual lists"
   ]
  },
  {
   "cell_type": "code",
   "execution_count": 2,
   "id": "f6df1f39",
   "metadata": {},
   "outputs": [
    {
     "name": "stdout",
     "output_type": "stream",
     "text": [
      "Original list is : [('good', 1), ('morning', 2), ('have', 3), ('tea', 4)]\n",
      "Modified list is : [('good', 'morning', 'have', 'tea'), (1, 2, 3, 4)]\n"
     ]
    }
   ],
   "source": [
    "test_list = [('good', 1), ('morning', 2), ('have', 3), ('a tea', 4)]\n",
    "\n",
    "print (\"Original list is : \" + str(test_list))\n",
    "res=[]\n",
    "a=[]\n",
    "b=[]\n",
    "for i in test_list:\n",
    "    a.append(i[0])\n",
    "    b.append(i[1])\n",
    "res.append(tuple(a))\n",
    "res.append(tuple(b))\n",
    "\n",
    "print (\"Modified list is : \" + str(res))\n"
   ]
  },
  {
   "cell_type": "code",
   "execution_count": null,
   "id": "c81c80c6",
   "metadata": {},
   "outputs": [],
   "source": []
  }
 ],
 "metadata": {
  "kernelspec": {
   "display_name": "Python 3 (ipykernel)",
   "language": "python",
   "name": "python3"
  },
  "language_info": {
   "codemirror_mode": {
    "name": "ipython",
    "version": 3
   },
   "file_extension": ".py",
   "mimetype": "text/x-python",
   "name": "python",
   "nbconvert_exporter": "python",
   "pygments_lexer": "ipython3",
   "version": "3.9.13"
  }
 },
 "nbformat": 4,
 "nbformat_minor": 5
}
