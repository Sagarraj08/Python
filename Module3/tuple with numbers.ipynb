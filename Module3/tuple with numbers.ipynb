{
 "cells": [
  {
   "cell_type": "markdown",
   "id": "28d0f256",
   "metadata": {},
   "source": [
    "# Python program to create a tuple with numbers"
   ]
  },
  {
   "cell_type": "code",
   "execution_count": 8,
   "id": "b3f1b365",
   "metadata": {},
   "outputs": [
    {
     "name": "stdout",
     "output_type": "stream",
     "text": [
      "(1, 2, 3, 4, 5, 6, 7, 8)\n"
     ]
    }
   ],
   "source": [
    "x=(1,2,3,4,5,6,7,8)\n",
    "print(x)"
   ]
  }
 ],
 "metadata": {
  "kernelspec": {
   "display_name": "Python 3 (ipykernel)",
   "language": "python",
   "name": "python3"
  },
  "language_info": {
   "codemirror_mode": {
    "name": "ipython",
    "version": 3
   },
   "file_extension": ".py",
   "mimetype": "text/x-python",
   "name": "python",
   "nbconvert_exporter": "python",
   "pygments_lexer": "ipython3",
   "version": "3.9.13"
  }
 },
 "nbformat": 4,
 "nbformat_minor": 5
}
