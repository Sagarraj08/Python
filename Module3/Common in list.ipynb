{
 "cells": [
  {
   "cell_type": "markdown",
   "id": "5bd9f1fa",
   "metadata": {},
   "source": [
    "# Python function that takes two lists and returns true if they have at least one common member."
   ]
  },
  {
   "cell_type": "code",
   "execution_count": 7,
   "id": "cc49b470",
   "metadata": {},
   "outputs": [],
   "source": [
    "def common(list1,list2):\n",
    "    x=set(list1)\n",
    "    y=set(list2)\n",
    "    z=list(x.intersection(y)) \n",
    "    if len(z)==0:\n",
    "        print(\"nothing is common\")\n",
    "    else:\n",
    "        print(\"common is\",z)\n"
   ]
  },
  {
   "cell_type": "code",
   "execution_count": 8,
   "id": "9cdd6a82",
   "metadata": {},
   "outputs": [
    {
     "name": "stdout",
     "output_type": "stream",
     "text": [
      "common is ['before', 'after']\n"
     ]
    }
   ],
   "source": [
    "list1=[1,2,3,\"after\",\"before\"]\n",
    "list2=[4,5,6,\"after\",\"before\"]\n",
    "common(list1,list2)"
   ]
  }
 ],
 "metadata": {
  "kernelspec": {
   "display_name": "Python 3 (ipykernel)",
   "language": "python",
   "name": "python3"
  },
  "language_info": {
   "codemirror_mode": {
    "name": "ipython",
    "version": 3
   },
   "file_extension": ".py",
   "mimetype": "text/x-python",
   "name": "python",
   "nbconvert_exporter": "python",
   "pygments_lexer": "ipython3",
   "version": "3.9.13"
  }
 },
 "nbformat": 4,
 "nbformat_minor": 5
}
