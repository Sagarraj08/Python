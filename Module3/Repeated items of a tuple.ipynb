{
 "cells": [
  {
   "cell_type": "markdown",
   "id": "833a2072",
   "metadata": {},
   "source": [
    "# Python program to find the repeated items of a tuple"
   ]
  },
  {
   "cell_type": "code",
   "execution_count": 2,
   "id": "7d6bb37d",
   "metadata": {},
   "outputs": [
    {
     "name": "stdout",
     "output_type": "stream",
     "text": [
      "(2, 4, 5, 6, 2, 3, 4, 4, 7)\n",
      "3\n"
     ]
    }
   ],
   "source": [
    "\n",
    "tuplex = (2, 4, 5, 6, 2, 3, 4, 4, 7) \n",
    "print(tuplex)\n",
    "count = tuplex.count(4)\n",
    "print(count)\n"
   ]
  },
  {
   "cell_type": "code",
   "execution_count": 18,
   "id": "615770d6",
   "metadata": {},
   "outputs": [
    {
     "name": "stdout",
     "output_type": "stream",
     "text": [
      "REPEATED 1\n",
      "REPEATED 1\n",
      "REPEATED 1\n",
      "REPEATED 1\n"
     ]
    }
   ],
   "source": [
    "tup=(1,3,4,32,1,1,1)  \n",
    "for i in tup:\n",
    "    if tup.count(i) > 1:\n",
    "        print('REPEATED',i)\n",
    "        \n",
    "        "
   ]
  },
  {
   "cell_type": "code",
   "execution_count": null,
   "id": "84143a64",
   "metadata": {},
   "outputs": [],
   "source": []
  },
  {
   "cell_type": "code",
   "execution_count": null,
   "id": "333ce3d2",
   "metadata": {},
   "outputs": [],
   "source": []
  }
 ],
 "metadata": {
  "kernelspec": {
   "display_name": "Python 3 (ipykernel)",
   "language": "python",
   "name": "python3"
  },
  "language_info": {
   "codemirror_mode": {
    "name": "ipython",
    "version": 3
   },
   "file_extension": ".py",
   "mimetype": "text/x-python",
   "name": "python",
   "nbconvert_exporter": "python",
   "pygments_lexer": "ipython3",
   "version": "3.9.13"
  }
 },
 "nbformat": 4,
 "nbformat_minor": 5
}
