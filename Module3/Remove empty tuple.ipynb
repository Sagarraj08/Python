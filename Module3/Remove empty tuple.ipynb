{
 "cells": [
  {
   "cell_type": "markdown",
   "id": "09ba587d",
   "metadata": {},
   "source": [
    "# Python program to remove an empty tuple(s) from a list of tuples."
   ]
  },
  {
   "cell_type": "code",
   "execution_count": 5,
   "id": "ed4ab2da",
   "metadata": {},
   "outputs": [
    {
     "name": "stdout",
     "output_type": "stream",
     "text": [
      "[('',), ('a', 'b'), ('a', 'b', 'c'), 'd']\n"
     ]
    }
   ],
   "source": [
    "x = [(),('',), ('a', 'b'), ('a', 'b', 'c'),(),(),(),('d')]\n",
    "x = [t for t in x if t]\n",
    "print(x)\n"
   ]
  },
  {
   "cell_type": "code",
   "execution_count": 6,
   "id": "a0b46add",
   "metadata": {},
   "outputs": [
    {
     "name": "stdout",
     "output_type": "stream",
     "text": [
      "[('sagar', '24', '8'), ('Anand', 'mahendra'), ('geeta', '80'), ('', ''), (), (), ()]\n"
     ]
    }
   ],
   "source": [
    "def Remove(tuples):\n",
    "    for i in tuples:\n",
    "        if(len(i) == 0):\n",
    "            tuples.remove(i)\n",
    "    return tuples\n",
    "\n",
    "tuples = [(), ('sagar', '24', '8'), (), (), ('Anand', 'mahendra'),('geeta', '80'), ('', ''), (), (), (), (), ()]\n",
    "print(Remove(tuples))\n"
   ]
  }
 ],
 "metadata": {
  "kernelspec": {
   "display_name": "Python 3 (ipykernel)",
   "language": "python",
   "name": "python3"
  },
  "language_info": {
   "codemirror_mode": {
    "name": "ipython",
    "version": 3
   },
   "file_extension": ".py",
   "mimetype": "text/x-python",
   "name": "python",
   "nbconvert_exporter": "python",
   "pygments_lexer": "ipython3",
   "version": "3.9.13"
  }
 },
 "nbformat": 4,
 "nbformat_minor": 5
}
