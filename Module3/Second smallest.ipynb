{
 "cells": [
  {
   "cell_type": "markdown",
   "id": "828f3306",
   "metadata": {},
   "source": [
    "# Python program to find the second smallest number in a list"
   ]
  },
  {
   "cell_type": "code",
   "execution_count": 25,
   "id": "793dc018",
   "metadata": {},
   "outputs": [
    {
     "name": "stdout",
     "output_type": "stream",
     "text": [
      "Second Smallest element is: 4\n"
     ]
    }
   ],
   "source": [
    "def find(list1):\n",
    "    length = len(list1)\n",
    "    list1.sort()\n",
    "    print(\"Second Smallest element is:\", list1[1])\n",
    "\n",
    "list1=[12, 45, 2, 41, 31, 10, 8, 6, 4]\n",
    "Largest = find(list1)\n"
   ]
  },
  {
   "cell_type": "code",
   "execution_count": null,
   "id": "7c40248d",
   "metadata": {},
   "outputs": [],
   "source": []
  },
  {
   "cell_type": "code",
   "execution_count": null,
   "id": "c078e12c",
   "metadata": {},
   "outputs": [],
   "source": []
  }
 ],
 "metadata": {
  "kernelspec": {
   "display_name": "Python 3 (ipykernel)",
   "language": "python",
   "name": "python3"
  },
  "language_info": {
   "codemirror_mode": {
    "name": "ipython",
    "version": 3
   },
   "file_extension": ".py",
   "mimetype": "text/x-python",
   "name": "python",
   "nbconvert_exporter": "python",
   "pygments_lexer": "ipython3",
   "version": "3.9.13"
  }
 },
 "nbformat": 4,
 "nbformat_minor": 5
}
