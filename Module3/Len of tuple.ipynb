{
 "cells": [
  {
   "cell_type": "markdown",
   "id": "788eb2b0",
   "metadata": {},
   "source": [
    "# Python program to find the length of a tuple."
   ]
  },
  {
   "cell_type": "code",
   "execution_count": 6,
   "id": "0cb9588b",
   "metadata": {},
   "outputs": [
    {
     "name": "stdout",
     "output_type": "stream",
     "text": [
      "Length of tuple is 5\n"
     ]
    }
   ],
   "source": [
    "x=(\"sagar\",\"anand\",1,2,3)\n",
    "print(\"Length of tuple is\",len(x))"
   ]
  }
 ],
 "metadata": {
  "kernelspec": {
   "display_name": "Python 3 (ipykernel)",
   "language": "python",
   "name": "python3"
  },
  "language_info": {
   "codemirror_mode": {
    "name": "ipython",
    "version": 3
   },
   "file_extension": ".py",
   "mimetype": "text/x-python",
   "name": "python",
   "nbconvert_exporter": "python",
   "pygments_lexer": "ipython3",
   "version": "3.9.13"
  }
 },
 "nbformat": 4,
 "nbformat_minor": 5
}
