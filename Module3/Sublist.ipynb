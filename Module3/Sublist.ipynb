{
 "cells": [
  {
   "cell_type": "markdown",
   "id": "00eb1d6b",
   "metadata": {},
   "source": [
    "# Python program to check whether a list contains a sub list"
   ]
  },
  {
   "cell_type": "code",
   "execution_count": 16,
   "id": "f2ae8aff",
   "metadata": {},
   "outputs": [],
   "source": [
    "def sublist(x,y):\n",
    "    x=set(x)\n",
    "    y=set(y)\n",
    "    z=x.issubset(y)\n",
    "    print(z)\n",
    "    print(\"true means given list is sublist\\nfalse means given list is not sublist\")"
   ]
  },
  {
   "cell_type": "code",
   "execution_count": 17,
   "id": "2dccfa48",
   "metadata": {},
   "outputs": [
    {
     "name": "stdout",
     "output_type": "stream",
     "text": [
      "True\n",
      "true means given list is sublist\n",
      "false means given list is not sublist\n"
     ]
    }
   ],
   "source": [
    "x=[1,2,3,4,5,6,7,8,9,10]\n",
    "sub=[4,6,8]\n",
    "sublist(sub,x)\n"
   ]
  },
  {
   "cell_type": "code",
   "execution_count": null,
   "id": "f1a55900",
   "metadata": {},
   "outputs": [],
   "source": []
  }
 ],
 "metadata": {
  "kernelspec": {
   "display_name": "Python 3 (ipykernel)",
   "language": "python",
   "name": "python3"
  },
  "language_info": {
   "codemirror_mode": {
    "name": "ipython",
    "version": 3
   },
   "file_extension": ".py",
   "mimetype": "text/x-python",
   "name": "python",
   "nbconvert_exporter": "python",
   "pygments_lexer": "ipython3",
   "version": "3.9.13"
  }
 },
 "nbformat": 4,
 "nbformat_minor": 5
}
