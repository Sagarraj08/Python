{
 "cells": [
  {
   "cell_type": "markdown",
   "id": "62994d47",
   "metadata": {},
   "source": [
    "# Python program to calculate the area of a trapezoid"
   ]
  },
  {
   "cell_type": "code",
   "execution_count": 1,
   "id": "98dcd27b",
   "metadata": {},
   "outputs": [
    {
     "name": "stdout",
     "output_type": "stream",
     "text": [
      "Height of trapezoid: 5\n",
      "Base one value: 5\n",
      "Base two value: 5\n",
      "Area is: 25.0\n"
     ]
    }
   ],
   "source": [
    "base_1 = 5\n",
    "base_2 = 6\n",
    "height = float(input(\"Height of trapezoid: \"))\n",
    "base_1 = float(input('Base one value: '))\n",
    "base_2 = float(input('Base two value: '))\n",
    "area = ((base_1 + base_2) / 2) * height\n",
    "print(\"Area is:\", area)\n"
   ]
  },
  {
   "cell_type": "code",
   "execution_count": null,
   "id": "8dd212dd",
   "metadata": {},
   "outputs": [],
   "source": []
  }
 ],
 "metadata": {
  "kernelspec": {
   "display_name": "Python 3 (ipykernel)",
   "language": "python",
   "name": "python3"
  },
  "language_info": {
   "codemirror_mode": {
    "name": "ipython",
    "version": 3
   },
   "file_extension": ".py",
   "mimetype": "text/x-python",
   "name": "python",
   "nbconvert_exporter": "python",
   "pygments_lexer": "ipython3",
   "version": "3.9.13"
  }
 },
 "nbformat": 4,
 "nbformat_minor": 5
}
