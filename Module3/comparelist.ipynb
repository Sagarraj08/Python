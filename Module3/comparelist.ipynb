{
 "cells": [
  {
   "cell_type": "markdown",
   "id": "33d3a2ff",
   "metadata": {},
   "source": [
    "# compare two list."
   ]
  },
  {
   "cell_type": "code",
   "execution_count": 10,
   "id": "f54c0e8f",
   "metadata": {},
   "outputs": [
    {
     "data": {
      "text/plain": [
       "True"
      ]
     },
     "execution_count": 10,
     "metadata": {},
     "output_type": "execute_result"
    }
   ],
   "source": [
    "def comparelist(l1,l2):\n",
    "   l1.sort()\n",
    "   l2.sort()\n",
    "   if(l1==l2):\n",
    "      return \"Equal\"\n",
    "   else:\n",
    "      return \"Non equal\"\n",
    "x=[1,2,3,4,5]\n",
    "y=[1,2,3,4,5]\n",
    "\n",
    "x==y"
   ]
  },
  {
   "cell_type": "code",
   "execution_count": 11,
   "id": "3913eea2",
   "metadata": {},
   "outputs": [
    {
     "data": {
      "text/plain": [
       "'Equal'"
      ]
     },
     "execution_count": 11,
     "metadata": {},
     "output_type": "execute_result"
    }
   ],
   "source": [
    "comparelist(x,y)"
   ]
  }
 ],
 "metadata": {
  "kernelspec": {
   "display_name": "Python 3 (ipykernel)",
   "language": "python",
   "name": "python3"
  },
  "language_info": {
   "codemirror_mode": {
    "name": "ipython",
    "version": 3
   },
   "file_extension": ".py",
   "mimetype": "text/x-python",
   "name": "python",
   "nbconvert_exporter": "python",
   "pygments_lexer": "ipython3",
   "version": "3.9.13"
  }
 },
 "nbformat": 4,
 "nbformat_minor": 5
}
