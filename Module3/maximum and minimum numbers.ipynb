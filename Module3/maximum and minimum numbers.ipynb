{
 "cells": [
  {
   "cell_type": "markdown",
   "id": "fe0c46a9",
   "metadata": {},
   "source": [
    "# Python program to find the maximum and minimum numbers from the specified decimal numbers."
   ]
  },
  {
   "cell_type": "code",
   "execution_count": 1,
   "id": "e984083d",
   "metadata": {},
   "outputs": [
    {
     "name": "stdout",
     "output_type": "stream",
     "text": [
      "Maximum:  7.25\n",
      "Minimum:  0.04\n"
     ]
    }
   ],
   "source": [
    "from decimal import *\n",
    "data = list(map(Decimal, '2.45 2.69 2.45 3.45 2.00 0.04 7.25'.split()))\n",
    "print(\"Maximum: \", max(data))\n",
    "print(\"Minimum: \", min(data))"
   ]
  },
  {
   "cell_type": "code",
   "execution_count": null,
   "id": "ca235922",
   "metadata": {},
   "outputs": [],
   "source": []
  }
 ],
 "metadata": {
  "kernelspec": {
   "display_name": "Python 3 (ipykernel)",
   "language": "python",
   "name": "python3"
  },
  "language_info": {
   "codemirror_mode": {
    "name": "ipython",
    "version": 3
   },
   "file_extension": ".py",
   "mimetype": "text/x-python",
   "name": "python",
   "nbconvert_exporter": "python",
   "pygments_lexer": "ipython3",
   "version": "3.9.13"
  }
 },
 "nbformat": 4,
 "nbformat_minor": 5
}
