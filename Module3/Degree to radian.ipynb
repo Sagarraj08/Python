{
 "cells": [
  {
   "cell_type": "markdown",
   "id": "dff176d6",
   "metadata": {},
   "source": [
    "# Python program to convert degree to radian "
   ]
  },
  {
   "cell_type": "code",
   "execution_count": 1,
   "id": "be2396fc",
   "metadata": {},
   "outputs": [
    {
     "name": "stdout",
     "output_type": "stream",
     "text": [
      "Input degrees: 5\n",
      "0.0873015873015873\n"
     ]
    }
   ],
   "source": [
    "pi=22/7\n",
    "degree = float(input(\"Input degrees: \"))\n",
    "radian = degree*(pi/180)\n",
    "print(radian)\n"
   ]
  },
  {
   "cell_type": "code",
   "execution_count": null,
   "id": "0329ba53",
   "metadata": {},
   "outputs": [],
   "source": []
  }
 ],
 "metadata": {
  "kernelspec": {
   "display_name": "Python 3 (ipykernel)",
   "language": "python",
   "name": "python3"
  },
  "language_info": {
   "codemirror_mode": {
    "name": "ipython",
    "version": 3
   },
   "file_extension": ".py",
   "mimetype": "text/x-python",
   "name": "python",
   "nbconvert_exporter": "python",
   "pygments_lexer": "ipython3",
   "version": "3.9.13"
  }
 },
 "nbformat": 4,
 "nbformat_minor": 5
}
