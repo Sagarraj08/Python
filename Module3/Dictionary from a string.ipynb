{
 "cells": [
  {
   "cell_type": "markdown",
   "id": "1a7aa846",
   "metadata": {},
   "source": [
    "# Python program to create a dictionary from a string."
   ]
  },
  {
   "cell_type": "code",
   "execution_count": 1,
   "id": "67ec5dd5",
   "metadata": {},
   "outputs": [
    {
     "name": "stdout",
     "output_type": "stream",
     "text": [
      "{'A': 13, 'B': 14, 'C': 15}\n",
      "13\n",
      "15\n"
     ]
    }
   ],
   "source": [
    "string = \"{'A':13, 'B':14, 'C':15}\"\n",
    "\n",
    "Dict = eval(string)\n",
    "print(Dict)\n",
    "print(Dict['A'])\n",
    "print(Dict['C'])\n"
   ]
  },
  {
   "cell_type": "code",
   "execution_count": 2,
   "id": "fd4dddff",
   "metadata": {},
   "outputs": [
    {
     "name": "stdout",
     "output_type": "stream",
     "text": [
      "{'A': '13', 'B': '14', 'C': '15'}\n",
      "13\n",
      "15\n"
     ]
    }
   ],
   "source": [
    "\n",
    "string = \"A - 13, B - 14, C - 15\"\n",
    "\n",
    "Dict = dict((x.strip(), y.strip())\n",
    "            for x, y in (element.split('-')\n",
    "            for element in string.split(', ')))\n",
    "\n",
    "print(Dict)\n",
    "print(Dict['A'])\n",
    "print(Dict['C'])\n"
   ]
  },
  {
   "cell_type": "code",
   "execution_count": 3,
   "id": "9834e4b6",
   "metadata": {},
   "outputs": [
    {
     "name": "stdout",
     "output_type": "stream",
     "text": [
      "Enter a string: sagar sagar\n",
      "s : 2\n",
      "a : 4\n",
      "g : 2\n",
      "r : 2\n",
      "  : 1\n"
     ]
    }
   ],
   "source": [
    "st = input(\"Enter a string: \")\n",
    "dic = {} \n",
    "for ch in st:\n",
    "    if ch in dic: \n",
    "        dic[ch] += 1\n",
    "    else:\n",
    "        dic[ch] = 1 \n",
    "for key in dic:\n",
    "    print(key,':',dic[key])"
   ]
  },
  {
   "cell_type": "code",
   "execution_count": null,
   "id": "379ea90c",
   "metadata": {},
   "outputs": [],
   "source": []
  }
 ],
 "metadata": {
  "kernelspec": {
   "display_name": "Python 3 (ipykernel)",
   "language": "python",
   "name": "python3"
  },
  "language_info": {
   "codemirror_mode": {
    "name": "ipython",
    "version": 3
   },
   "file_extension": ".py",
   "mimetype": "text/x-python",
   "name": "python",
   "nbconvert_exporter": "python",
   "pygments_lexer": "ipython3",
   "version": "3.9.13"
  }
 },
 "nbformat": 4,
 "nbformat_minor": 5
}
