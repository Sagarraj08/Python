{
 "cells": [
  {
   "cell_type": "markdown",
   "id": "0571a833",
   "metadata": {},
   "source": [
    "# Python function to get the largest number, smallest num and sum of all from a list.\n"
   ]
  },
  {
   "cell_type": "code",
   "execution_count": 30,
   "id": "2008058d",
   "metadata": {},
   "outputs": [],
   "source": [
    "x=[1,2,3,4,5]\n",
    "import math\n"
   ]
  },
  {
   "cell_type": "code",
   "execution_count": 11,
   "id": "a0c21d39",
   "metadata": {},
   "outputs": [
    {
     "name": "stdout",
     "output_type": "stream",
     "text": [
      "Maximum number from list is 5 \n",
      "Mininimum number from list is 1\n"
     ]
    }
   ],
   "source": [
    "print(\"Maximum number from list is\",max(x),\"\\nMininimum number from list is\", min(x))"
   ]
  },
  {
   "cell_type": "code",
   "execution_count": 27,
   "id": "3508211e",
   "metadata": {},
   "outputs": [
    {
     "name": "stdout",
     "output_type": "stream",
     "text": [
      "Sum of all elements in given list:  15\n"
     ]
    }
   ],
   "source": [
    "total = sum(x)\n",
    "print(\"Sum of all elements in given list: \", total)\n"
   ]
  },
  {
   "cell_type": "code",
   "execution_count": null,
   "id": "15dd4d53",
   "metadata": {},
   "outputs": [],
   "source": []
  }
 ],
 "metadata": {
  "kernelspec": {
   "display_name": "Python 3 (ipykernel)",
   "language": "python",
   "name": "python3"
  },
  "language_info": {
   "codemirror_mode": {
    "name": "ipython",
    "version": 3
   },
   "file_extension": ".py",
   "mimetype": "text/x-python",
   "name": "python",
   "nbconvert_exporter": "python",
   "pygments_lexer": "ipython3",
   "version": "3.9.13"
  }
 },
 "nbformat": 4,
 "nbformat_minor": 5
}
