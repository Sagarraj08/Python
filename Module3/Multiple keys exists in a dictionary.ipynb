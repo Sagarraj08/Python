{
 "cells": [
  {
   "cell_type": "markdown",
   "id": "13fd1d4e",
   "metadata": {},
   "source": [
    "# Python program to check multiple keys exists in a dictionary"
   ]
  },
  {
   "cell_type": "code",
   "execution_count": 1,
   "id": "e204c01c",
   "metadata": {},
   "outputs": [
    {
     "name": "stdout",
     "output_type": "stream",
     "text": [
      "True\n",
      "False\n"
     ]
    }
   ],
   "source": [
    "sports = {\"geeksforgeeks\" : 1, \"practice\" : 2, \"contribute\" :3}\n",
    "\n",
    "print(sports.keys() >= {\"geeksforgeeks\", \"practice\"})\n",
    "print(sports.keys() >= {\"contribute\", \"ide\"})\n"
   ]
  },
  {
   "cell_type": "code",
   "execution_count": 2,
   "id": "d9032e34",
   "metadata": {},
   "outputs": [
    {
     "name": "stdout",
     "output_type": "stream",
     "text": [
      "True\n",
      "False\n"
     ]
    }
   ],
   "source": [
    "# Python3 code heck multiple key existence\n",
    "# using issubset\n",
    "\n",
    "# initializing a dictionary\n",
    "sports = {\"geeksforgeeks\" : 1, \"practice\" : 2, \"contribute\" :3}\n",
    "\n",
    "# creating set of keys that we want to compare\n",
    "s1 = set(['geeksforgeeks', 'practice'])\n",
    "s2 = set(['geeksforgeeks', 'ide'])\n",
    "\n",
    "print(s1.issubset(sports.keys()))\n",
    "print(s2.issubset(sports.keys()))\n"
   ]
  },
  {
   "cell_type": "code",
   "execution_count": 3,
   "id": "8dd6880c",
   "metadata": {},
   "outputs": [
    {
     "name": "stdout",
     "output_type": "stream",
     "text": [
      "keys are present\n",
      "keys are not present\n"
     ]
    }
   ],
   "source": [
    "# Python3 code check multiple key existence\n",
    "# using if and all\n",
    "\n",
    "# initializing a dictionary\n",
    "sports = {\"geeksforgeeks\" : 1, \"practice\" : 2, \"contribute\" :3}\n",
    "\n",
    "# using if, all statement\n",
    "if all(key in sports for key in ('geeksforgeeks', 'practice')):\n",
    "\tprint(\"keys are present\")\n",
    "else:\n",
    "\tprint(\"keys are not present\")\n",
    "\n",
    "# using if, all statement\n",
    "if all(key in sports for key in ('geeksforgeeks', 'ide')):\n",
    "\tprint(\"keys are present\")\n",
    "else:\n",
    "\tprint(\"keys are not present\")\n"
   ]
  },
  {
   "cell_type": "code",
   "execution_count": null,
   "id": "d53ac24e",
   "metadata": {},
   "outputs": [],
   "source": []
  }
 ],
 "metadata": {
  "kernelspec": {
   "display_name": "Python 3 (ipykernel)",
   "language": "python",
   "name": "python3"
  },
  "language_info": {
   "codemirror_mode": {
    "name": "ipython",
    "version": 3
   },
   "file_extension": ".py",
   "mimetype": "text/x-python",
   "name": "python",
   "nbconvert_exporter": "python",
   "pygments_lexer": "ipython3",
   "version": "3.9.13"
  }
 },
 "nbformat": 4,
 "nbformat_minor": 5
}
