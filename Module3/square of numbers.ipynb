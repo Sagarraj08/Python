{
 "cells": [
  {
   "cell_type": "markdown",
   "id": "e29bbff7",
   "metadata": {},
   "source": [
    "# Python program to generate and print a list of first and last 5 elements where the values are square of numbers between 1 and 30"
   ]
  },
  {
   "cell_type": "code",
   "execution_count": 19,
   "id": "f16dd5e2",
   "metadata": {},
   "outputs": [
    {
     "name": "stdout",
     "output_type": "stream",
     "text": [
      "first five [1, 4, 9, 16, 25]\n",
      "Last five [625, 676, 729, 784, 841]\n"
     ]
    }
   ],
   "source": [
    "def printValues():\n",
    "    l = list()\n",
    "    for i in range(1,30):\n",
    "        l.append(i**2)\n",
    "    print(\"first five\",l[:5])\n",
    "    print(\"Last five\",l[-5:])\n",
    "\n",
    "printValues()\n"
   ]
  },
  {
   "cell_type": "code",
   "execution_count": null,
   "id": "0f5acb16",
   "metadata": {},
   "outputs": [],
   "source": []
  },
  {
   "cell_type": "code",
   "execution_count": null,
   "id": "76f24238",
   "metadata": {},
   "outputs": [],
   "source": []
  }
 ],
 "metadata": {
  "kernelspec": {
   "display_name": "Python 3 (ipykernel)",
   "language": "python",
   "name": "python3"
  },
  "language_info": {
   "codemirror_mode": {
    "name": "ipython",
    "version": 3
   },
   "file_extension": ".py",
   "mimetype": "text/x-python",
   "name": "python",
   "nbconvert_exporter": "python",
   "pygments_lexer": "ipython3",
   "version": "3.9.13"
  }
 },
 "nbformat": 4,
 "nbformat_minor": 5
}
