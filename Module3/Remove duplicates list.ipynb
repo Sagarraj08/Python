{
 "cells": [
  {
   "cell_type": "markdown",
   "id": "42f9e2dd",
   "metadata": {},
   "source": [
    "#  Python program to remove duplicates from a list.\n",
    "\n"
   ]
  },
  {
   "cell_type": "code",
   "execution_count": 1,
   "id": "4181c17b",
   "metadata": {},
   "outputs": [
    {
     "name": "stdout",
     "output_type": "stream",
     "text": [
      "[2, 4, 10, 20, 5, 'sagar']\n"
     ]
    }
   ],
   "source": [
    "def Remove(duplicate):\n",
    "    final = []\n",
    "    for num in duplicate:\n",
    "        if num not in final:\n",
    "            final.append(num)\n",
    "    return final\n",
    "\n",
    "duplicate = [2, 4, 10, 20, 5, 2, 20, 4,\"sagar\",\"sagar\",\"sagar\"]\n",
    "print(Remove(duplicate))\n"
   ]
  },
  {
   "cell_type": "code",
   "execution_count": 2,
   "id": "71266dae",
   "metadata": {},
   "outputs": [
    {
     "name": "stdout",
     "output_type": "stream",
     "text": [
      "['sagar', 2, 4, 5, 10, 20]\n"
     ]
    }
   ],
   "source": [
    "print(list(set(duplicate)))"
   ]
  }
 ],
 "metadata": {
  "kernelspec": {
   "display_name": "Python 3 (ipykernel)",
   "language": "python",
   "name": "python3"
  },
  "language_info": {
   "codemirror_mode": {
    "name": "ipython",
    "version": 3
   },
   "file_extension": ".py",
   "mimetype": "text/x-python",
   "name": "python",
   "nbconvert_exporter": "python",
   "pygments_lexer": "ipython3",
   "version": "3.9.13"
  }
 },
 "nbformat": 4,
 "nbformat_minor": 5
}
