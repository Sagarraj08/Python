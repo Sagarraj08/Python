{
 "cells": [
  {
   "cell_type": "markdown",
   "id": "91c5c19d",
   "metadata": {},
   "source": [
    "# Python function that checks whether a passed string is palindrome or not"
   ]
  },
  {
   "cell_type": "code",
   "execution_count": 5,
   "id": "b5f2c768",
   "metadata": {},
   "outputs": [
    {
     "name": "stdout",
     "output_type": "stream",
     "text": [
      "Enter the string to check if it is a palindrome: sas\n",
      "The string is a palindrome.\n"
     ]
    }
   ],
   "source": [
    "                    \n",
    "str_1 = input (\"Enter the string to check if it is a palindrome: \")\n",
    "\n",
    "str_1 = str_1.casefold ()\n",
    "\n",
    "rev_str = reversed (str_1)\n",
    "\n",
    "if list (str_1) == list (rev_str):\n",
    "\n",
    "              print ('The string is a palindrome.')\n",
    "\n",
    "else:\n",
    "\n",
    "              print ('The string is not a palindrome.')\n",
    "\n",
    "                "
   ]
  },
  {
   "cell_type": "code",
   "execution_count": null,
   "id": "3cd21810",
   "metadata": {},
   "outputs": [],
   "source": []
  }
 ],
 "metadata": {
  "kernelspec": {
   "display_name": "Python 3 (ipykernel)",
   "language": "python",
   "name": "python3"
  },
  "language_info": {
   "codemirror_mode": {
    "name": "ipython",
    "version": 3
   },
   "file_extension": ".py",
   "mimetype": "text/x-python",
   "name": "python",
   "nbconvert_exporter": "python",
   "pygments_lexer": "ipython3",
   "version": "3.9.13"
  }
 },
 "nbformat": 4,
 "nbformat_minor": 5
}
