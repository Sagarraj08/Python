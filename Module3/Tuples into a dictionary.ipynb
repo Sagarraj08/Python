{
 "cells": [
  {
   "cell_type": "markdown",
   "id": "4f21051c",
   "metadata": {},
   "source": [
    "# Python program to convert a list of tuples into a dictionary."
   ]
  },
  {
   "cell_type": "code",
   "execution_count": 10,
   "id": "e7cec381",
   "metadata": {},
   "outputs": [
    {
     "name": "stdout",
     "output_type": "stream",
     "text": [
      "{'Nakul': 93, 'Shivansh': 45, 'Samved': 65, 'Yash': 88, 'Vidit': 70, 'Pradeep': 52}\n"
     ]
    }
   ],
   "source": [
    "\n",
    "list_1=[(\"Nakul\",93), (\"Shivansh\",45), (\"Samved\",65),(\"Yash\",88), (\"Vidit\",70), (\"Pradeep\",52)]\n",
    "dictt=dict(list_1)\n",
    "print(dictt)\n",
    "\n"
   ]
  },
  {
   "cell_type": "code",
   "execution_count": null,
   "id": "7c2e1ab8",
   "metadata": {},
   "outputs": [],
   "source": []
  },
  {
   "cell_type": "code",
   "execution_count": null,
   "id": "9131666a",
   "metadata": {},
   "outputs": [],
   "source": []
  }
 ],
 "metadata": {
  "kernelspec": {
   "display_name": "Python 3 (ipykernel)",
   "language": "python",
   "name": "python3"
  },
  "language_info": {
   "codemirror_mode": {
    "name": "ipython",
    "version": 3
   },
   "file_extension": ".py",
   "mimetype": "text/x-python",
   "name": "python",
   "nbconvert_exporter": "python",
   "pygments_lexer": "ipython3",
   "version": "3.9.13"
  }
 },
 "nbformat": 4,
 "nbformat_minor": 5
}
