{
 "cells": [
  {
   "cell_type": "markdown",
   "id": "b5187962",
   "metadata": {},
   "source": [
    "# Python program to calculate the area of a parallelogram"
   ]
  },
  {
   "cell_type": "code",
   "execution_count": null,
   "id": "e63da99d",
   "metadata": {},
   "outputs": [],
   "source": [
    "base = float(input('Length of base: '))\n",
    "height = float(input('Measurement of height: '))\n",
    "area = base * height\n",
    "print(\"Area is: \", area)\n"
   ]
  }
 ],
 "metadata": {
  "kernelspec": {
   "display_name": "Python 3 (ipykernel)",
   "language": "python",
   "name": "python3"
  },
  "language_info": {
   "codemirror_mode": {
    "name": "ipython",
    "version": 3
   },
   "file_extension": ".py",
   "mimetype": "text/x-python",
   "name": "python",
   "nbconvert_exporter": "python",
   "pygments_lexer": "ipython3",
   "version": "3.9.13"
  }
 },
 "nbformat": 4,
 "nbformat_minor": 5
}
