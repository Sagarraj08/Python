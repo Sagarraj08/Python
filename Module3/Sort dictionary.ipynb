{
 "cells": [
  {
   "cell_type": "markdown",
   "id": "58ee9f4b",
   "metadata": {},
   "source": [
    "# Python script to sort (ascending and descending) a dictionary by value\n"
   ]
  },
  {
   "cell_type": "code",
   "execution_count": 6,
   "id": "849c707d",
   "metadata": {},
   "outputs": [
    {
     "name": "stdout",
     "output_type": "stream",
     "text": [
      "Sorted dictionary is :\n",
      "[(1, 'a'), (2, 'b'), (3, 'c'), (4, 'd')]\n"
     ]
    }
   ],
   "source": [
    "my_dict = {'c': 3,'a': 1,'d': 4,'b': 2}\n",
    "\n",
    "sorted_dict = sorted([(value, key)\n",
    "\n",
    "for (key, value) in my_dict.items()])\n",
    "\n",
    "print(\"Sorted dictionary is :\")\n",
    "\n",
    "print(sorted_dict)\n"
   ]
  },
  {
   "cell_type": "code",
   "execution_count": null,
   "id": "d5b3ddba",
   "metadata": {},
   "outputs": [],
   "source": []
  }
 ],
 "metadata": {
  "kernelspec": {
   "display_name": "Python 3 (ipykernel)",
   "language": "python",
   "name": "python3"
  },
  "language_info": {
   "codemirror_mode": {
    "name": "ipython",
    "version": 3
   },
   "file_extension": ".py",
   "mimetype": "text/x-python",
   "name": "python",
   "nbconvert_exporter": "python",
   "pygments_lexer": "ipython3",
   "version": "3.9.13"
  }
 },
 "nbformat": 4,
 "nbformat_minor": 5
}
