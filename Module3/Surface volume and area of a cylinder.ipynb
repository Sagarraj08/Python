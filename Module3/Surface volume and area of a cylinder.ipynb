{
 "cells": [
  {
   "cell_type": "markdown",
   "id": "8427e91e",
   "metadata": {},
   "source": [
    "# Python program to calculate surface volume and area of a cylinder"
   ]
  },
  {
   "cell_type": "code",
   "execution_count": null,
   "id": "ae312f7b",
   "metadata": {},
   "outputs": [],
   "source": [
    "pi=22/7\n",
    "height = float(input('Height of cylinder: '))\n",
    "radian = float(input('Radius of cylinder: '))\n",
    "volume = pi * radian * radian * height\n",
    "sur_area = ((2*pi*radian) * height) + ((pi*radian**2)*2)\n",
    "print(\"Volume is: \", volume)\n",
    "print(\"Surface Area is: \", sur_area)\n"
   ]
  }
 ],
 "metadata": {
  "kernelspec": {
   "display_name": "Python 3 (ipykernel)",
   "language": "python",
   "name": "python3"
  },
  "language_info": {
   "codemirror_mode": {
    "name": "ipython",
    "version": 3
   },
   "file_extension": ".py",
   "mimetype": "text/x-python",
   "name": "python",
   "nbconvert_exporter": "python",
   "pygments_lexer": "ipython3",
   "version": "3.9.13"
  }
 },
 "nbformat": 4,
 "nbformat_minor": 5
}
