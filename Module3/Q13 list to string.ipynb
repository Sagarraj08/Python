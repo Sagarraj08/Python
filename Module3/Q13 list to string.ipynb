{
 "cells": [
  {
   "cell_type": "markdown",
   "id": "87c5dfb1",
   "metadata": {},
   "source": [
    "# Python program to convert a list of characters into a string."
   ]
  },
  {
   "cell_type": "code",
   "execution_count": 12,
   "id": "c841d046",
   "metadata": {},
   "outputs": [
    {
     "name": "stdout",
     "output_type": "stream",
     "text": [
      "Good morning have a nice day\n"
     ]
    }
   ],
   "source": [
    "x=[\"Good\",\"morning\",\"have\",\"a\",\"nice\",\"day\"]\n",
    "y=print(\" \".join(x))"
   ]
  },
  {
   "cell_type": "code",
   "execution_count": null,
   "id": "c5170bd9",
   "metadata": {},
   "outputs": [],
   "source": []
  }
 ],
 "metadata": {
  "kernelspec": {
   "display_name": "Python 3 (ipykernel)",
   "language": "python",
   "name": "python3"
  },
  "language_info": {
   "codemirror_mode": {
    "name": "ipython",
    "version": 3
   },
   "file_extension": ".py",
   "mimetype": "text/x-python",
   "name": "python",
   "nbconvert_exporter": "python",
   "pygments_lexer": "ipython3",
   "version": "3.9.13"
  }
 },
 "nbformat": 4,
 "nbformat_minor": 5
}
