{
 "cells": [
  {
   "cell_type": "markdown",
   "id": "3152b57b",
   "metadata": {},
   "source": [
    "# Python program to check a list is empty or not"
   ]
  },
  {
   "cell_type": "code",
   "execution_count": 14,
   "id": "320da93a",
   "metadata": {},
   "outputs": [
    {
     "name": "stdout",
     "output_type": "stream",
     "text": [
      "The list is not empty\n"
     ]
    }
   ],
   "source": [
    "def enquiry(lis1):\n",
    "    if len(lis1) == 0:\n",
    "        print(\"The list is empty\")\n",
    "    else:\n",
    "        print(\"The list is not empty\")\n",
    "lis1 = [1]\n",
    "enquiry(lis1)"
   ]
  }
 ],
 "metadata": {
  "kernelspec": {
   "display_name": "Python 3 (ipykernel)",
   "language": "python",
   "name": "python3"
  },
  "language_info": {
   "codemirror_mode": {
    "name": "ipython",
    "version": 3
   },
   "file_extension": ".py",
   "mimetype": "text/x-python",
   "name": "python",
   "nbconvert_exporter": "python",
   "pygments_lexer": "ipython3",
   "version": "3.9.13"
  }
 },
 "nbformat": 4,
 "nbformat_minor": 5
}
