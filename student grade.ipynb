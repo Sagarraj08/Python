{
 "cells": [
  {
   "cell_type": "markdown",
   "id": "4857506f",
   "metadata": {},
   "source": [
    "# student grade "
   ]
  },
  {
   "cell_type": "code",
   "execution_count": 21,
   "id": "de5c604c",
   "metadata": {},
   "outputs": [
    {
     "name": "stdout",
     "output_type": "stream",
     "text": [
      "enter marks 55\n"
     ]
    }
   ],
   "source": [
    "x=int(input(\"enter marks of student\"))\n"
   ]
  },
  {
   "cell_type": "code",
   "execution_count": 22,
   "id": "7ccdeeea",
   "metadata": {},
   "outputs": [
    {
     "name": "stdout",
     "output_type": "stream",
     "text": [
      "C1 grade\n"
     ]
    }
   ],
   "source": [
    "\n",
    "if x>=91 and x<=100 : print(\"A1 grade\")\n",
    "elif x<91 and x>=81 : print(\"A2 grade\")\n",
    "elif x<81 and x>=71 : print(\"B1 grade\")\n",
    "elif x<71 and x>=61 : print(\"B2 grade\")\n",
    "elif x<61 and x>=51 : print(\"C1 grade\")\n",
    "elif x<51 and x>=41 : print(\"C2 grade\")\n",
    "elif x<41 and x>=33 : print(\"D grade\")\n",
    "elif x<33 and x>=21 : print(\"E1 Grade\")"
   ]
  },
  {
   "cell_type": "code",
   "execution_count": null,
   "id": "3e410325",
   "metadata": {},
   "outputs": [],
   "source": []
  },
  {
   "cell_type": "code",
   "execution_count": null,
   "id": "b448e9bd",
   "metadata": {},
   "outputs": [],
   "source": []
  },
  {
   "cell_type": "code",
   "execution_count": null,
   "id": "97bad385",
   "metadata": {},
   "outputs": [],
   "source": []
  }
 ],
 "metadata": {
  "kernelspec": {
   "display_name": "Python 3 (ipykernel)",
   "language": "python",
   "name": "python3"
  },
  "language_info": {
   "codemirror_mode": {
    "name": "ipython",
    "version": 3
   },
   "file_extension": ".py",
   "mimetype": "text/x-python",
   "name": "python",
   "nbconvert_exporter": "python",
   "pygments_lexer": "ipython3",
   "version": "3.9.13"
  }
 },
 "nbformat": 4,
 "nbformat_minor": 5
}
