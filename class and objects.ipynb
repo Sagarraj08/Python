{
 "cells": [
  {
   "cell_type": "code",
   "execution_count": 1,
   "metadata": {},
   "outputs": [
    {
     "name": "stdout",
     "output_type": "stream",
     "text": [
      "My name is :sagar\n"
     ]
    }
   ],
   "source": [
    "class person:\n",
    "    def __init__(self,name,age):\n",
    "        self.name=name\n",
    "        self.age=age\n",
    "    def invt(self):\n",
    "        print(\"My name is :\"+self.name)\n",
    "\n",
    "p1=person(\"sagar\",28)\n",
    "p1.invt()"
   ]
  },
  {
   "cell_type": "code",
   "execution_count": 1,
   "metadata": {},
   "outputs": [
    {
     "name": "stdout",
     "output_type": "stream",
     "text": [
      "9\n"
     ]
    }
   ],
   "source": [
    "def triple(n):\n",
    "    return lambda a:a*n\n",
    "trpler=triple(3)\n",
    "print(trpler(3))"
   ]
  },
  {
   "cell_type": "code",
   "execution_count": 32,
   "metadata": {},
   "outputs": [
    {
     "name": "stdout",
     "output_type": "stream",
     "text": [
      "Student name is sagar age is 38\n",
      "Student name is anand age is 8 graduation year is 2023\n"
     ]
    }
   ],
   "source": [
    "class students:\n",
    "    def __init__(std,name,age):\n",
    "        std.name=name\n",
    "        std.age=age\n",
    "    def clas(s):\n",
    "        print(\"Student name is \"+s.name+\" age is\",s.age)\n",
    "p1=students(\"sagar\",38)\n",
    "p1.clas()\n",
    "\n",
    "class perso(students):\n",
    "    def __init__(std, name, age,year):\n",
    "        super().__init__(name, age)\n",
    "        std.year=year\n",
    "    def clas(s):\n",
    "        print(\"Student name is \"+s.name+\" age is\",s.age,\"graduation year is\",s.year)\n",
    "x=perso(\"anand\",8,2023)\n",
    "x.clas()"
   ]
  }
 ],
 "metadata": {
  "kernelspec": {
   "display_name": "Python 3",
   "language": "python",
   "name": "python3"
  },
  "language_info": {
   "codemirror_mode": {
    "name": "ipython",
    "version": 3
   },
   "file_extension": ".py",
   "mimetype": "text/x-python",
   "name": "python",
   "nbconvert_exporter": "python",
   "pygments_lexer": "ipython3",
   "version": "3.11.2"
  },
  "orig_nbformat": 4,
  "vscode": {
   "interpreter": {
    "hash": "7811cc115f115b41c977165ea184702bd403833a83dcee82f674c980b9f1626e"
   }
  }
 },
 "nbformat": 4,
 "nbformat_minor": 2
}
