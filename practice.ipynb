{
 "cells": [
  {
   "cell_type": "code",
   "execution_count": 28,
   "id": "dd837eb5",
   "metadata": {},
   "outputs": [],
   "source": [
    "a=\"sagar anand\""
   ]
  },
  {
   "cell_type": "code",
   "execution_count": 29,
   "id": "5d0800b5",
   "metadata": {},
   "outputs": [
    {
     "name": "stdout",
     "output_type": "stream",
     "text": [
      "sagar anand\n"
     ]
    }
   ],
   "source": [
    "print(a)"
   ]
  },
  {
   "cell_type": "code",
   "execution_count": 30,
   "id": "c9c812d2",
   "metadata": {},
   "outputs": [
    {
     "name": "stdout",
     "output_type": "stream",
     "text": [
      " anand\n"
     ]
    }
   ],
   "source": [
    "#slice\n",
    "print(a[5:])"
   ]
  },
  {
   "cell_type": "code",
   "execution_count": 31,
   "id": "b32524fc",
   "metadata": {},
   "outputs": [
    {
     "name": "stdout",
     "output_type": "stream",
     "text": [
      "SAGAR ANAND\n"
     ]
    }
   ],
   "source": [
    "print(a.upper())"
   ]
  },
  {
   "cell_type": "code",
   "execution_count": 32,
   "id": "72126707",
   "metadata": {},
   "outputs": [
    {
     "data": {
      "text/plain": [
       "False"
      ]
     },
     "execution_count": 32,
     "metadata": {},
     "output_type": "execute_result"
    }
   ],
   "source": [
    "a.isalnum()"
   ]
  },
  {
   "cell_type": "code",
   "execution_count": 33,
   "id": "9cba9aed",
   "metadata": {},
   "outputs": [
    {
     "data": {
      "text/plain": [
       "11"
      ]
     },
     "execution_count": 33,
     "metadata": {},
     "output_type": "execute_result"
    }
   ],
   "source": [
    "a.title()\n",
    "len(a)"
   ]
  },
  {
   "cell_type": "code",
   "execution_count": null,
   "id": "0b4a8d81",
   "metadata": {},
   "outputs": [],
   "source": [
    "a.islower()"
   ]
  },
  {
   "cell_type": "code",
   "execution_count": null,
   "id": "f8db8522",
   "metadata": {},
   "outputs": [],
   "source": [
    "b=a.swapcase()"
   ]
  },
  {
   "cell_type": "code",
   "execution_count": null,
   "id": "e97ae11b",
   "metadata": {},
   "outputs": [],
   "source": [
    "a.find('g')"
   ]
  },
  {
   "cell_type": "code",
   "execution_count": null,
   "id": "b951b8c9",
   "metadata": {},
   "outputs": [],
   "source": [
    "a.replace('g','f')"
   ]
  },
  {
   "cell_type": "code",
   "execution_count": null,
   "id": "9cdb9472",
   "metadata": {},
   "outputs": [],
   "source": [
    "a.rfind('g')"
   ]
  },
  {
   "cell_type": "code",
   "execution_count": 11,
   "id": "f3cc7139",
   "metadata": {},
   "outputs": [
    {
     "data": {
      "text/plain": [
       "4"
      ]
     },
     "execution_count": 11,
     "metadata": {},
     "output_type": "execute_result"
    }
   ],
   "source": [
    "a.count('a')"
   ]
  },
  {
   "cell_type": "code",
   "execution_count": 16,
   "id": "e27c7a88",
   "metadata": {},
   "outputs": [
    {
     "name": "stdout",
     "output_type": "stream",
     "text": [
      "sagar anand\n"
     ]
    },
    {
     "data": {
      "text/plain": [
       "'sagar anand'"
      ]
     },
     "execution_count": 16,
     "metadata": {},
     "output_type": "execute_result"
    }
   ],
   "source": [
    "print(a.casefold())\n",
    "a.lower()"
   ]
  },
  {
   "cell_type": "code",
   "execution_count": null,
   "id": "6e824303",
   "metadata": {},
   "outputs": [],
   "source": [
    "print(b)"
   ]
  },
  {
   "cell_type": "code",
   "execution_count": null,
   "id": "2a711113",
   "metadata": {},
   "outputs": [],
   "source": [
    "a.center(0)"
   ]
  },
  {
   "cell_type": "code",
   "execution_count": null,
   "id": "117a557d",
   "metadata": {},
   "outputs": [],
   "source": [
    "print(b)"
   ]
  },
  {
   "cell_type": "code",
   "execution_count": null,
   "id": "d20436ed",
   "metadata": {},
   "outputs": [],
   "source": [
    "b.rjust(80)\n",
    "b.ljust(50)"
   ]
  },
  {
   "cell_type": "code",
   "execution_count": null,
   "id": "5e42bcc8",
   "metadata": {},
   "outputs": [],
   "source": [
    "a.endswith('d')"
   ]
  },
  {
   "cell_type": "code",
   "execution_count": null,
   "id": "017a13a2",
   "metadata": {},
   "outputs": [],
   "source": [
    "a.isspace()"
   ]
  },
  {
   "cell_type": "code",
   "execution_count": null,
   "id": "e0b0af3c",
   "metadata": {},
   "outputs": [],
   "source": [
    "a.isidentifier()"
   ]
  },
  {
   "cell_type": "code",
   "execution_count": null,
   "id": "d66c3237",
   "metadata": {},
   "outputs": [],
   "source": [
    "a.isprintable()"
   ]
  },
  {
   "cell_type": "markdown",
   "id": "41d823b4",
   "metadata": {},
   "source": [
    "# TYPE CASTING\n"
   ]
  },
  {
   "cell_type": "code",
   "execution_count": null,
   "id": "ac302696",
   "metadata": {},
   "outputs": [],
   "source": [
    "w=str(20)\n",
    "print(type(w))\n"
   ]
  },
  {
   "cell_type": "code",
   "execution_count": null,
   "id": "bcca0c23",
   "metadata": {},
   "outputs": [],
   "source": [
    "#BITWISE\n",
    "f=3\n",
    "x=5\n",
    "print(f&x)\n",
    "print(f|x)"
   ]
  },
  {
   "cell_type": "code",
   "execution_count": null,
   "id": "e82e2713",
   "metadata": {},
   "outputs": [],
   "source": [
    "#while loop\n",
    "i=0\n",
    "while i<=10:\n",
    "    print(i)\n",
    "    i+=1\n"
   ]
  },
  {
   "cell_type": "code",
   "execution_count": null,
   "id": "0e3fedd3",
   "metadata": {},
   "outputs": [],
   "source": [
    "#break sttatement\n",
    "i=0\n",
    "while i<=10:\n",
    "    print(i)\n",
    "    if i==5:\n",
    "        break\n",
    "    i+=1"
   ]
  },
  {
   "cell_type": "code",
   "execution_count": null,
   "id": "4ebbd258",
   "metadata": {},
   "outputs": [],
   "source": [
    "#continue sttatement\n",
    "i=0\n",
    "while i<10:\n",
    "    i+=1\n",
    "    if i==5:\n",
    "        continue\n",
    "    print(i)\n"
   ]
  },
  {
   "cell_type": "code",
   "execution_count": null,
   "id": "c5938fa7",
   "metadata": {},
   "outputs": [],
   "source": [
    "j=1\n",
    "while j<5:\n",
    "    j+=1\n",
    "    if j==3:\n",
    "        continue\n",
    "    print(j)"
   ]
  },
  {
   "cell_type": "markdown",
   "id": "bad59843",
   "metadata": {},
   "source": [
    "# for loop\n"
   ]
  },
  {
   "cell_type": "code",
   "execution_count": null,
   "id": "dc8a3f37",
   "metadata": {},
   "outputs": [],
   "source": [
    "cr=[\"red\",\"yellow\",\"green\",\"black\"]\n",
    "for r in cr:\n",
    "    print(r,end=\" \")"
   ]
  },
  {
   "cell_type": "code",
   "execution_count": 8,
   "id": "4cf5a9c5",
   "metadata": {},
   "outputs": [
    {
     "name": "stdout",
     "output_type": "stream",
     "text": [
      "1\n",
      "2\n",
      "3\n",
      "4\n"
     ]
    }
   ],
   "source": [
    "i=0\n",
    "while i<10:\n",
    "    i+=1\n",
    "    if i==5:\n",
    "        break\n",
    "    print(i)\n",
    "   "
   ]
  },
  {
   "cell_type": "code",
   "execution_count": 35,
   "id": "924ef0f7",
   "metadata": {},
   "outputs": [
    {
     "name": "stdout",
     "output_type": "stream",
     "text": [
      "15\n"
     ]
    }
   ],
   "source": [
    "a='''we \n",
    "are \n",
    "family'''\n",
    "print(len(a))"
   ]
  },
  {
   "cell_type": "code",
   "execution_count": 36,
   "id": "24276342",
   "metadata": {},
   "outputs": [
    {
     "data": {
      "text/plain": [
       "15"
      ]
     },
     "execution_count": 36,
     "metadata": {},
     "output_type": "execute_result"
    }
   ],
   "source": [
    "len(a)"
   ]
  },
  {
   "cell_type": "code",
   "execution_count": 37,
   "id": "5e439e49",
   "metadata": {},
   "outputs": [
    {
     "name": "stdout",
     "output_type": "stream",
     "text": [
      "we \n",
      "are \n",
      "family\n"
     ]
    }
   ],
   "source": [
    "print(a)"
   ]
  },
  {
   "cell_type": "code",
   "execution_count": 55,
   "id": "4739a977",
   "metadata": {},
   "outputs": [
    {
     "name": "stdout",
     "output_type": "stream",
     "text": [
      "gar an\n",
      "sagar anand\n",
      "   sagar anand\n"
     ]
    }
   ],
   "source": [
    "x=\"   sagar anand\"\n",
    "print(x[5:11])\n",
    "print(x.strip())\n",
    "print(x)"
   ]
  },
  {
   "cell_type": "code",
   "execution_count": 265,
   "id": "f8d2f7b6",
   "metadata": {},
   "outputs": [
    {
     "name": "stdout",
     "output_type": "stream",
     "text": [
      "anand*anand\n",
      "['sagar', 'anand']\n",
      "['sagar*anand']\n"
     ]
    }
   ],
   "source": [
    "x=\"sagar*anand\"\n",
    "print(x.replace(\"sagar\",\"anand\"))\n",
    "print(x.split(\"*\"))\n"
   ]
  },
  {
   "cell_type": "code",
   "execution_count": 264,
   "id": "1561ad04",
   "metadata": {},
   "outputs": [
    {
     "name": "stdout",
     "output_type": "stream",
     "text": [
      "price of my mobile is 500 & sceen size is 6.6 inch\n",
      "price is 400\n",
      "('price ', 'of', ' my mobile is {} & sceen size is {}')\n"
     ]
    }
   ],
   "source": [
    "##Format\n",
    "s22=500\n",
    "scr=\"6.6 inch\"\n",
    "s=\"price of my mobile is {} & sceen size is {}\"\n",
    "print(s.format(s22,scr))\n",
    "sdd=\"price is{price: }\"\n",
    "print(sdd.format(price=400))\n",
    "print(s.partition(\"of\"))"
   ]
  },
  {
   "cell_type": "code",
   "execution_count": 231,
   "id": "1b925461",
   "metadata": {},
   "outputs": [
    {
     "name": "stdout",
     "output_type": "stream",
     "text": [
      "price of my mobile is 500 & sceen size is 6.6 inch\n",
      "True\n"
     ]
    }
   ],
   "source": [
    "#format with index number\n",
    "sd=\"price of my mobile is {1} & sceen size is {0}\"\n",
    "x=print(sd.format(scr,s22))\n",
    "print(s.endswith(\"}\"))"
   ]
  },
  {
   "cell_type": "code",
   "execution_count": 122,
   "id": "36bbc228",
   "metadata": {},
   "outputs": [
    {
     "name": "stdout",
     "output_type": "stream",
     "text": [
      "sagar\t \"sagar\" is great\\\n"
     ]
    }
   ],
   "source": [
    "#escape character\n",
    "sf=\"sagar\\t \\\"sagar\\\" is great\\\\\"\n",
    "print(sf)"
   ]
  },
  {
   "cell_type": "code",
   "execution_count": 149,
   "id": "17f2ce90",
   "metadata": {},
   "outputs": [
    {
     "name": "stdout",
     "output_type": "stream",
     "text": [
      "$$$$$$$$$$$$$sagar\t \"sagar\" is great\\$$$$$$$$$$$$$\n",
      "3\n"
     ]
    }
   ],
   "source": [
    "print(sf.center(50,\"$\"))\n",
    "print(sf.count(\"s\"))"
   ]
  },
  {
   "cell_type": "code",
   "execution_count": 164,
   "id": "c0daa93a",
   "metadata": {},
   "outputs": [
    {
     "name": "stdout",
     "output_type": "stream",
     "text": [
      "red   blue  green \n"
     ]
    }
   ],
   "source": [
    "#expand tabs\n",
    "sff=\"red\\tblue\\tgreen\\t\"\n",
    "print(sff.expandtabs(3))"
   ]
  },
  {
   "cell_type": "code",
   "execution_count": 227,
   "id": "9c3a2927",
   "metadata": {},
   "outputs": [
    {
     "name": "stdout",
     "output_type": "stream",
     "text": [
      "sagar\t \"sagar\" is great\\\n",
      "4\n",
      "1\n",
      "False\n",
      "redbluegreen\n",
      "************************************sagar\t \"sagar\" is great\\\n"
     ]
    }
   ],
   "source": [
    "print(sf)\n",
    "print(sf.find(\"r\"))\n",
    "print(sf.find(\"a\"))\n",
    "print(sf.isspace())\n",
    "a=[\"red\",\"blue\",\"green\"]\n",
    "print(\"\".join(a))\n",
    "print(sf.rjust(60,\"*\"))"
   ]
  },
  {
   "cell_type": "code",
   "execution_count": 266,
   "id": "e55d7df6",
   "metadata": {},
   "outputs": [
    {
     "name": "stdout",
     "output_type": "stream",
     "text": [
      ".....*****red is colour*****.....\n",
      ".....*****red is colour\n",
      "red is colour*****.....\n",
      "('.....*****red ', 'is', ' colour*****.....')\n"
     ]
    }
   ],
   "source": [
    "x=\".....*****red is colour*****.....\"\n",
    "print(x)\n",
    "print(x.rstrip(\".*\"))\n",
    "print(x.lstrip(\".*\"))\n",
    "print(x.partition(\"is\"))"
   ]
  },
  {
   "cell_type": "code",
   "execution_count": 1,
   "id": "e9e12516",
   "metadata": {},
   "outputs": [
    {
     "name": "stdout",
     "output_type": "stream",
     "text": [
      "['good', 'morning']\n",
      "True\n"
     ]
    }
   ],
   "source": [
    "f=\"good\\nmorning\"\n",
    "print(f.splitlines())\n",
    "print(f.startswith(\"g\"))\n"
   ]
  },
  {
   "cell_type": "code",
   "execution_count": 42,
   "id": "b5d7d96b",
   "metadata": {},
   "outputs": [
    {
     "name": "stdout",
     "output_type": "stream",
     "text": [
      "[44, 55, 66, 77]\n",
      "<class 'list'>\n"
     ]
    },
    {
     "data": {
      "text/plain": [
       "77"
      ]
     },
     "execution_count": 42,
     "metadata": {},
     "output_type": "execute_result"
    }
   ],
   "source": [
    "lst=[44,55,66,77]\n",
    "print(lst)\n",
    "print(type(lst))\n",
    "lst[-1]"
   ]
  },
  {
   "cell_type": "code",
   "execution_count": 43,
   "id": "de75a596",
   "metadata": {},
   "outputs": [
    {
     "name": "stdout",
     "output_type": "stream",
     "text": [
      "44\n",
      "[44, 55, 66, 77]\n",
      "55\n",
      "[44, 55, 66, 77]\n",
      "66\n",
      "[44, 55, 66, 77]\n",
      "77\n",
      "[44, 55, 66, 77]\n"
     ]
    }
   ],
   "source": [
    "for t in lst:\n",
    "    print(t)\n",
    "    print(lst)"
   ]
  },
  {
   "cell_type": "code",
   "execution_count": 44,
   "id": "78895d9b",
   "metadata": {},
   "outputs": [
    {
     "name": "stdout",
     "output_type": "stream",
     "text": [
      "[9, 'hello', 'sagar']\n"
     ]
    }
   ],
   "source": [
    "lst3=[1,3,5,7,9,\"hello\",\"sagar\"]\n",
    "print(lst3[4:])"
   ]
  },
  {
   "cell_type": "code",
   "execution_count": 45,
   "id": "9a7e1eb9",
   "metadata": {},
   "outputs": [
    {
     "name": "stdout",
     "output_type": "stream",
     "text": [
      "[1, 3, 'tops', 7, 9, 'hello', 'sagar']\n"
     ]
    }
   ],
   "source": [
    "lst3[2]=\"tops\"\n",
    "print(lst3)"
   ]
  },
  {
   "cell_type": "code",
   "execution_count": 62,
   "id": "cba8d751",
   "metadata": {},
   "outputs": [
    {
     "name": "stdout",
     "output_type": "stream",
     "text": [
      "[[44, 55, 66, 77, [...], [...]]]\n"
     ]
    }
   ],
   "source": [
    "lst3.append(lst)\n",
    "print(lst3)"
   ]
  },
  {
   "cell_type": "code",
   "execution_count": null,
   "id": "494d85c2",
   "metadata": {},
   "outputs": [],
   "source": []
  },
  {
   "cell_type": "code",
   "execution_count": 63,
   "id": "0af63394",
   "metadata": {},
   "outputs": [
    {
     "data": {
      "text/plain": [
       "[44, 55, 66, 77, [[...]], [[...]]]"
      ]
     },
     "execution_count": 63,
     "metadata": {},
     "output_type": "execute_result"
    }
   ],
   "source": [
    "lst3\n",
    "lst"
   ]
  },
  {
   "cell_type": "code",
   "execution_count": 66,
   "id": "1c843dd0",
   "metadata": {},
   "outputs": [
    {
     "name": "stdout",
     "output_type": "stream",
     "text": [
      "1\n"
     ]
    }
   ],
   "source": [
    "lst.copy()\n",
    "lst\n",
    "print(lst.count(55))"
   ]
  },
  {
   "cell_type": "code",
   "execution_count": 6,
   "id": "aa324207",
   "metadata": {},
   "outputs": [
    {
     "name": "stdout",
     "output_type": "stream",
     "text": [
      "1.6666666666666665\n"
     ]
    }
   ],
   "source": [
    "x= lambda a,b,c:a+b/c\n",
    "print(x(1,2,3))"
   ]
  }
 ],
 "metadata": {
  "kernelspec": {
   "display_name": "Python 3 (ipykernel)",
   "language": "python",
   "name": "python3"
  },
  "language_info": {
   "codemirror_mode": {
    "name": "ipython",
    "version": 3
   },
   "file_extension": ".py",
   "mimetype": "text/x-python",
   "name": "python",
   "nbconvert_exporter": "python",
   "pygments_lexer": "ipython3",
   "version": "3.9.13"
  },
  "vscode": {
   "interpreter": {
    "hash": "0d36738efb02b46f2291bc18f32076806b70360f2bce5d987cd2b90be755e1b9"
   }
  }
 },
 "nbformat": 4,
 "nbformat_minor": 5
}
